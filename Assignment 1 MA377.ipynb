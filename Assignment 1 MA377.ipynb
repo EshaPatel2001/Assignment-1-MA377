{
 "cells": [
  {
   "cell_type": "code",
   "execution_count": 2,
   "metadata": {},
   "outputs": [],
   "source": [
    "import numpy as np\n",
    "import matplotlib.pyplot as plt"
   ]
  },
  {
   "cell_type": "code",
   "execution_count": 3,
   "metadata": {},
   "outputs": [
    {
     "name": "stdout",
     "output_type": "stream",
     "text": [
      "[1, 5, 6, 1]\n"
     ]
    }
   ],
   "source": [
    "#My trial code to get a rough idea of what im looking for in generagting a 'number bracelet'\n",
    "#Note: the order in which the below numbers are selcted matters\n",
    "x1 = 1 # first input number between 0-9\n",
    "\n",
    "x2 = 5 # second input number between 0-9\n",
    "\n",
    "my_bracelet = [x1,x2]\n",
    "x3 = x1 + x2\n",
    "if x3<10:\n",
    "    my_bracelet.append(x3)\n",
    "    #print(my_bracelet)\n",
    "else:\n",
    "    x3 = x3 - 10\n",
    "    my_bracelet.append(x3)\n",
    "    #print(my_bracelet)\n",
    "x4 = x2 + x3\n",
    "if x4<10:\n",
    "    my_bracelet.append(x4)\n",
    "    #print(my_bracelet)\n",
    "else:\n",
    "    x4 = x4 - 10\n",
    "    my_bracelet.append(x4)\n",
    "    #print(my_bracelet)\n",
    "print(my_bracelet)"
   ]
  },
  {
   "cell_type": "code",
   "execution_count": 4,
   "metadata": {},
   "outputs": [
    {
     "name": "stdout",
     "output_type": "stream",
     "text": [
      "[1, 5, 6, 1, 7, 8, 5, 3, 8, 1, 9, 0, 9, 9, 8, 7, 5, 2, 7, 9, 6, 5, 1, 6, 7, 3, 0, 3, 3, 6, 9, 5, 4, 9, 3, 2, 5, 7, 2, 9, 1, 0, 1, 1, 2, 3, 5, 8, 3, 1]\n"
     ]
    }
   ],
   "source": [
    "x1 = 1 # first input number between 0-9\n",
    "\n",
    "x2 = 5 # second input number between 0-9\n",
    "\n",
    "my_bracelet1 = [x1,x2]\n",
    "\n",
    "for i in range (2,50):\n",
    "    xnew = my_bracelet1[i-2] + my_bracelet1[i-1]\n",
    "    if xnew < 10:\n",
    "        my_bracelet1.append(xnew)\n",
    "        #print(my_bracelet1) for testing\n",
    "    else:\n",
    "        xnew = xnew- 10\n",
    "        my_bracelet1.append(xnew)\n",
    "        #print(my_bracelet1) for testing\n",
    "    \n",
    "print(my_bracelet1)"
   ]
  },
  {
   "cell_type": "code",
   "execution_count": 5,
   "metadata": {},
   "outputs": [
    {
     "name": "stdout",
     "output_type": "stream",
     "text": [
      "[1, 5, 6, 1, 7, 8, 5, 3, 8, 1, 9, 0, 9, 9, 8, 7, 5, 2, 7, 9, 6, 5, 1, 6, 7, 3, 0, 3, 3, 6, 9, 5, 4, 9, 3, 2, 5, 7, 2, 9, 1, 0, 1, 1, 2, 3, 5, 8, 3, 1, 4, 5, 9, 4, 3, 7, 0, 7, 7, 4, 1, 5, 6, 1, 7, 8, 5, 3, 8, 1, 9, 0, 9, 9, 8, 7, 5, 2, 7, 9, 6, 5, 1, 6, 7, 3, 0, 3, 3, 6, 9, 5, 4, 9, 3, 2, 5, 7, 2, 9]\n"
     ]
    }
   ],
   "source": [
    "x1 = 1 # first input number between 0-9\n",
    "\n",
    "x2 = 5 # second input number between 0-9\n",
    "\n",
    "my_bracelet1 = [x1,x2]\n",
    "\n",
    "for i in range (2,100):\n",
    "    xnew = my_bracelet1[i-2] + my_bracelet1[i-1]\n",
    "    if xnew < 10:\n",
    "        my_bracelet1.append(xnew)\n",
    "        #print(my_bracelet1) for testing\n",
    "    else:\n",
    "        xnew = xnew- 10\n",
    "        my_bracelet1.append(xnew)\n",
    "        #print(my_bracelet1) for testing\n",
    "    \n",
    "print(my_bracelet1)"
   ]
  },
  {
   "cell_type": "code",
   "execution_count": 6,
   "metadata": {},
   "outputs": [
    {
     "name": "stdout",
     "output_type": "stream",
     "text": [
      "[1, 5, 6, 1, 7, 8, 5, 3, 8, 1, 9, 0, 9, 9, 8, 7, 5, 2, 7, 9, 6, 5, 1, 6, 7, 3, 0, 3, 3, 6, 9, 5, 4, 9, 3, 2, 5, 7, 2, 9, 1, 0, 1, 1, 2, 3, 5, 8, 3, 1, 4, 5, 9, 4, 3, 7, 0, 7, 7, 4, 1, 5]\n"
     ]
    }
   ],
   "source": [
    "#Bracelet 1\n",
    "\n",
    "x1 = 1 # first input number between 0-9\n",
    "\n",
    "x2 = 5 # second input number between 0-9\n",
    "\n",
    "my_bracelet1 = [x1,x2]\n",
    "\n",
    "for i in range (2,62): # has length 60 as this is the range 62-2 where it repeats\n",
    "    xnew = my_bracelet1[i-2] + my_bracelet1[i-1]\n",
    "    if xnew < 10:\n",
    "        my_bracelet1.append(xnew)\n",
    "        #print(my_bracelet1) for testing\n",
    "    else:\n",
    "        xnew = xnew- 10\n",
    "        my_bracelet1.append(xnew)\n",
    "        #print(my_bracelet1) for testing\n",
    "    \n",
    "print(my_bracelet1)"
   ]
  },
  {
   "cell_type": "code",
   "execution_count": 7,
   "metadata": {},
   "outputs": [
    {
     "name": "stdout",
     "output_type": "stream",
     "text": [
      "[0, 2, 2, 4, 6, 0, 6, 6, 2, 8, 0, 8, 8, 6, 4, 0, 4, 4, 8, 2, 0, 2]\n"
     ]
    }
   ],
   "source": [
    "#Bracelet 2\n",
    "\n",
    "x1 = 0 # first input number between 0-9\n",
    "\n",
    "x2 = 2 # second input number between 0-9\n",
    "\n",
    "my_bracelet2 = [x1,x2]\n",
    "\n",
    "for i in range (2,22):\n",
    "    xnew = my_bracelet2[i-2] + my_bracelet2[i-1]\n",
    "    if xnew < 10:\n",
    "        my_bracelet2.append(xnew)\n",
    "        #print(my_bracelet2) for testing\n",
    "    else:\n",
    "        xnew = xnew- 10\n",
    "        my_bracelet2.append(xnew)\n",
    "        #print(my_bracelet2) for testing\n",
    "    \n",
    "print(my_bracelet2)"
   ]
  },
  {
   "cell_type": "code",
   "execution_count": 8,
   "metadata": {},
   "outputs": [
    {
     "name": "stdout",
     "output_type": "stream",
     "text": [
      "[0, 5, 5, 0, 5]\n"
     ]
    }
   ],
   "source": [
    "#Bracelet 3\n",
    "\n",
    "x1 = 0 # first input number between 0-9\n",
    "\n",
    "x2 = 5 # second input number between 0-9\n",
    "\n",
    "my_bracelet3 = [x1,x2]\n",
    "\n",
    "for i in range (2,5):\n",
    "    xnew = my_bracelet3[i-2] + my_bracelet3[i-1]\n",
    "    if xnew < 10:\n",
    "        my_bracelet3.append(xnew)\n",
    "        #print(my_bracelet3) for testing\n",
    "    else:\n",
    "        xnew = xnew- 10\n",
    "        my_bracelet3.append(xnew)\n",
    "        #print(my_bracelet3) for testing\n",
    "    \n",
    "print(my_bracelet3)"
   ]
  },
  {
   "cell_type": "code",
   "execution_count": 9,
   "metadata": {},
   "outputs": [
    {
     "name": "stdout",
     "output_type": "stream",
     "text": [
      "[1, 3, 4, 7, 1, 8, 9, 7, 6, 3, 9, 2, 1, 3]\n"
     ]
    }
   ],
   "source": [
    "#Bracelet 4\n",
    "\n",
    "x1 = 1 # first input number between 0-9\n",
    "\n",
    "x2 = 3 # second input number between 0-9\n",
    "\n",
    "my_bracelet4 = [x1,x2]\n",
    "\n",
    "for i in range (2,14):\n",
    "    xnew = my_bracelet4[i-2] + my_bracelet4[i-1]\n",
    "    if xnew < 10:\n",
    "        my_bracelet4.append(xnew)\n",
    "        #print(my_bracelet4) for testing\n",
    "    else:\n",
    "        xnew = xnew- 10\n",
    "        my_bracelet4.append(xnew)\n",
    "        #print(my_bracelet4) for testing\n",
    "    \n",
    "print(my_bracelet4)"
   ]
  },
  {
   "cell_type": "code",
   "execution_count": 10,
   "metadata": {},
   "outputs": [
    {
     "name": "stdout",
     "output_type": "stream",
     "text": [
      "[2, 6, 8, 4, 2, 6]\n"
     ]
    }
   ],
   "source": [
    "#Bracelet 5\n",
    "\n",
    "x1 = 2 # first input number between 0-9\n",
    "\n",
    "x2 = 6 # second input number between 0-9\n",
    "\n",
    "my_bracelet5 = [x1,x2]\n",
    "\n",
    "for i in range (2,6):\n",
    "    xnew = my_bracelet5[i-2] + my_bracelet5[i-1]\n",
    "    if xnew < 10:\n",
    "        my_bracelet5.append(xnew)\n",
    "        #print(my_bracelet5) for testing\n",
    "    else:\n",
    "        xnew = xnew- 10\n",
    "        my_bracelet5.append(xnew)\n",
    "        #print(my_bracelet5) for testing\n",
    "    \n",
    "print(my_bracelet5)"
   ]
  },
  {
   "cell_type": "code",
   "execution_count": 11,
   "metadata": {},
   "outputs": [
    {
     "name": "stdout",
     "output_type": "stream",
     "text": [
      "[0, 0, 0]\n"
     ]
    }
   ],
   "source": [
    "#Bracelet 6, Trivial\n",
    "\n",
    "x1 = 0 # first input number between 0-9\n",
    "\n",
    "x2 = 0 # second input number between 0-9\n",
    "\n",
    "my_bracelet6 = [x1,x2]\n",
    "\n",
    "for i in range (2,3):\n",
    "    xnew = my_bracelet6[i-2] + my_bracelet6[i-1]\n",
    "    if xnew < 10:\n",
    "        my_bracelet6.append(xnew)\n",
    "        #print(my_bracelet6) for testing\n",
    "    else:\n",
    "        xnew = xnew- 10\n",
    "        my_bracelet6.append(xnew)\n",
    "        #print(my_bracelet6) for testing\n",
    "    \n",
    "print(my_bracelet6)"
   ]
  }
 ],
 "metadata": {
  "kernelspec": {
   "display_name": "Python 3",
   "language": "python",
   "name": "python3"
  },
  "language_info": {
   "codemirror_mode": {
    "name": "ipython",
    "version": 3
   },
   "file_extension": ".py",
   "mimetype": "text/x-python",
   "name": "python",
   "nbconvert_exporter": "python",
   "pygments_lexer": "ipython3",
   "version": "3.8.5"
  }
 },
 "nbformat": 4,
 "nbformat_minor": 4
}
